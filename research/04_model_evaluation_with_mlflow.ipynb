{
 "cells": [
  {
   "cell_type": "code",
   "execution_count": 1,
   "id": "104d36df",
   "metadata": {},
   "outputs": [],
   "source": [
    "import os"
   ]
  },
  {
   "cell_type": "code",
   "execution_count": 2,
   "id": "efc35c84",
   "metadata": {},
   "outputs": [],
   "source": [
    "os.chdir(\"../\")"
   ]
  },
  {
   "cell_type": "code",
   "execution_count": 3,
   "id": "377ec4c7",
   "metadata": {},
   "outputs": [
    {
     "data": {
      "text/plain": [
       "'c:\\\\Users\\\\KIIT\\\\Desktop\\\\Kidney Disease Classification'"
      ]
     },
     "execution_count": 3,
     "metadata": {},
     "output_type": "execute_result"
    }
   ],
   "source": [
    "%pwd"
   ]
  },
  {
   "cell_type": "code",
   "execution_count": 4,
   "id": "69860cfa",
   "metadata": {},
   "outputs": [
    {
     "name": "stdout",
     "output_type": "stream",
     "text": [
      "Requirement already satisfied: dagshub in c:\\users\\kiit\\anaconda3\\envs\\kidney\\lib\\site-packages (0.5.10)\n",
      "Requirement already satisfied: PyYAML>=5 in c:\\users\\kiit\\anaconda3\\envs\\kidney\\lib\\site-packages (from dagshub) (6.0.2)\n",
      "Requirement already satisfied: appdirs>=1.4.4 in c:\\users\\kiit\\anaconda3\\envs\\kidney\\lib\\site-packages (from dagshub) (1.4.4)\n",
      "Requirement already satisfied: click>=8.0.4 in c:\\users\\kiit\\anaconda3\\envs\\kidney\\lib\\site-packages (from dagshub) (8.1.8)\n",
      "Requirement already satisfied: httpx>=0.23.0 in c:\\users\\kiit\\anaconda3\\envs\\kidney\\lib\\site-packages (from dagshub) (0.28.1)\n",
      "Requirement already satisfied: GitPython>=3.1.29 in c:\\users\\kiit\\anaconda3\\envs\\kidney\\lib\\site-packages (from dagshub) (3.1.44)\n",
      "Requirement already satisfied: rich>=13.1.0 in c:\\users\\kiit\\anaconda3\\envs\\kidney\\lib\\site-packages (from dagshub) (14.0.0)\n",
      "Requirement already satisfied: dacite~=1.6.0 in c:\\users\\kiit\\anaconda3\\envs\\kidney\\lib\\site-packages (from dagshub) (1.6.0)\n",
      "Requirement already satisfied: tenacity>=8.2.2 in c:\\users\\kiit\\anaconda3\\envs\\kidney\\lib\\site-packages (from dagshub) (9.1.2)\n",
      "Requirement already satisfied: gql[requests] in c:\\users\\kiit\\anaconda3\\envs\\kidney\\lib\\site-packages (from dagshub) (3.5.3)\n",
      "Requirement already satisfied: dataclasses-json in c:\\users\\kiit\\anaconda3\\envs\\kidney\\lib\\site-packages (from dagshub) (0.6.7)\n",
      "Requirement already satisfied: pandas in c:\\users\\kiit\\anaconda3\\envs\\kidney\\lib\\site-packages (from dagshub) (2.3.0)\n",
      "Requirement already satisfied: treelib>=1.6.4 in c:\\users\\kiit\\anaconda3\\envs\\kidney\\lib\\site-packages (from dagshub) (1.8.0)\n",
      "Requirement already satisfied: pathvalidate>=3.0.0 in c:\\users\\kiit\\anaconda3\\envs\\kidney\\lib\\site-packages (from dagshub) (3.3.1)\n",
      "Requirement already satisfied: python-dateutil in c:\\users\\kiit\\anaconda3\\envs\\kidney\\lib\\site-packages (from dagshub) (2.9.0.post0)\n",
      "Requirement already satisfied: boto3 in c:\\users\\kiit\\anaconda3\\envs\\kidney\\lib\\site-packages (from dagshub) (1.39.2)\n",
      "Requirement already satisfied: semver in c:\\users\\kiit\\anaconda3\\envs\\kidney\\lib\\site-packages (from dagshub) (3.0.4)\n",
      "Requirement already satisfied: dagshub-annotation-converter>=0.1.5 in c:\\users\\kiit\\anaconda3\\envs\\kidney\\lib\\site-packages (from dagshub) (0.1.10)\n",
      "Requirement already satisfied: colorama in c:\\users\\kiit\\anaconda3\\envs\\kidney\\lib\\site-packages (from click>=8.0.4->dagshub) (0.4.6)\n",
      "Requirement already satisfied: lxml in c:\\users\\kiit\\anaconda3\\envs\\kidney\\lib\\site-packages (from dagshub-annotation-converter>=0.1.5->dagshub) (6.0.0)\n",
      "Requirement already satisfied: pillow in c:\\users\\kiit\\anaconda3\\envs\\kidney\\lib\\site-packages (from dagshub-annotation-converter>=0.1.5->dagshub) (11.3.0)\n",
      "Requirement already satisfied: pydantic>=2.0.0 in c:\\users\\kiit\\anaconda3\\envs\\kidney\\lib\\site-packages (from dagshub-annotation-converter>=0.1.5->dagshub) (2.11.7)\n",
      "Requirement already satisfied: typing-extensions in c:\\users\\kiit\\anaconda3\\envs\\kidney\\lib\\site-packages (from dagshub-annotation-converter>=0.1.5->dagshub) (4.14.0)\n",
      "Requirement already satisfied: gitdb<5,>=4.0.1 in c:\\users\\kiit\\anaconda3\\envs\\kidney\\lib\\site-packages (from GitPython>=3.1.29->dagshub) (4.0.12)\n",
      "Requirement already satisfied: smmap<6,>=3.0.1 in c:\\users\\kiit\\anaconda3\\envs\\kidney\\lib\\site-packages (from gitdb<5,>=4.0.1->GitPython>=3.1.29->dagshub) (5.0.2)\n",
      "Requirement already satisfied: anyio in c:\\users\\kiit\\anaconda3\\envs\\kidney\\lib\\site-packages (from httpx>=0.23.0->dagshub) (4.9.0)\n",
      "Requirement already satisfied: certifi in c:\\users\\kiit\\anaconda3\\envs\\kidney\\lib\\site-packages (from httpx>=0.23.0->dagshub) (2025.6.15)\n",
      "Requirement already satisfied: httpcore==1.* in c:\\users\\kiit\\anaconda3\\envs\\kidney\\lib\\site-packages (from httpx>=0.23.0->dagshub) (1.0.9)\n",
      "Requirement already satisfied: idna in c:\\users\\kiit\\anaconda3\\envs\\kidney\\lib\\site-packages (from httpx>=0.23.0->dagshub) (3.10)\n",
      "Requirement already satisfied: h11>=0.16 in c:\\users\\kiit\\anaconda3\\envs\\kidney\\lib\\site-packages (from httpcore==1.*->httpx>=0.23.0->dagshub) (0.16.0)\n",
      "Requirement already satisfied: annotated-types>=0.6.0 in c:\\users\\kiit\\anaconda3\\envs\\kidney\\lib\\site-packages (from pydantic>=2.0.0->dagshub-annotation-converter>=0.1.5->dagshub) (0.7.0)\n",
      "Requirement already satisfied: pydantic-core==2.33.2 in c:\\users\\kiit\\anaconda3\\envs\\kidney\\lib\\site-packages (from pydantic>=2.0.0->dagshub-annotation-converter>=0.1.5->dagshub) (2.33.2)\n",
      "Requirement already satisfied: typing-inspection>=0.4.0 in c:\\users\\kiit\\anaconda3\\envs\\kidney\\lib\\site-packages (from pydantic>=2.0.0->dagshub-annotation-converter>=0.1.5->dagshub) (0.4.1)\n",
      "Requirement already satisfied: markdown-it-py>=2.2.0 in c:\\users\\kiit\\anaconda3\\envs\\kidney\\lib\\site-packages (from rich>=13.1.0->dagshub) (3.0.0)\n",
      "Requirement already satisfied: pygments<3.0.0,>=2.13.0 in c:\\users\\kiit\\anaconda3\\envs\\kidney\\lib\\site-packages (from rich>=13.1.0->dagshub) (2.19.2)\n",
      "Requirement already satisfied: mdurl~=0.1 in c:\\users\\kiit\\anaconda3\\envs\\kidney\\lib\\site-packages (from markdown-it-py>=2.2.0->rich>=13.1.0->dagshub) (0.1.2)\n",
      "Requirement already satisfied: six>=1.13.0 in c:\\users\\kiit\\anaconda3\\envs\\kidney\\lib\\site-packages (from treelib>=1.6.4->dagshub) (1.17.0)\n",
      "Requirement already satisfied: exceptiongroup>=1.0.2 in c:\\users\\kiit\\anaconda3\\envs\\kidney\\lib\\site-packages (from anyio->httpx>=0.23.0->dagshub) (1.3.0)\n",
      "Requirement already satisfied: sniffio>=1.1 in c:\\users\\kiit\\anaconda3\\envs\\kidney\\lib\\site-packages (from anyio->httpx>=0.23.0->dagshub) (1.3.1)\n",
      "Requirement already satisfied: botocore<1.40.0,>=1.39.2 in c:\\users\\kiit\\anaconda3\\envs\\kidney\\lib\\site-packages (from boto3->dagshub) (1.39.2)\n",
      "Requirement already satisfied: jmespath<2.0.0,>=0.7.1 in c:\\users\\kiit\\anaconda3\\envs\\kidney\\lib\\site-packages (from boto3->dagshub) (1.0.1)\n",
      "Requirement already satisfied: s3transfer<0.14.0,>=0.13.0 in c:\\users\\kiit\\anaconda3\\envs\\kidney\\lib\\site-packages (from boto3->dagshub) (0.13.0)\n",
      "Requirement already satisfied: urllib3<1.27,>=1.25.4 in c:\\users\\kiit\\anaconda3\\envs\\kidney\\lib\\site-packages (from botocore<1.40.0,>=1.39.2->boto3->dagshub) (1.26.20)\n",
      "Requirement already satisfied: marshmallow<4.0.0,>=3.18.0 in c:\\users\\kiit\\anaconda3\\envs\\kidney\\lib\\site-packages (from dataclasses-json->dagshub) (3.26.1)\n",
      "Requirement already satisfied: typing-inspect<1,>=0.4.0 in c:\\users\\kiit\\anaconda3\\envs\\kidney\\lib\\site-packages (from dataclasses-json->dagshub) (0.9.0)\n",
      "Requirement already satisfied: packaging>=17.0 in c:\\users\\kiit\\anaconda3\\envs\\kidney\\lib\\site-packages (from marshmallow<4.0.0,>=3.18.0->dataclasses-json->dagshub) (23.2)\n",
      "Requirement already satisfied: mypy-extensions>=0.3.0 in c:\\users\\kiit\\anaconda3\\envs\\kidney\\lib\\site-packages (from typing-inspect<1,>=0.4.0->dataclasses-json->dagshub) (1.1.0)\n",
      "Requirement already satisfied: graphql-core<3.2.7,>=3.2 in c:\\users\\kiit\\anaconda3\\envs\\kidney\\lib\\site-packages (from gql[requests]->dagshub) (3.2.6)\n",
      "Requirement already satisfied: yarl<2.0,>=1.6 in c:\\users\\kiit\\anaconda3\\envs\\kidney\\lib\\site-packages (from gql[requests]->dagshub) (1.20.1)\n",
      "Requirement already satisfied: backoff<3.0,>=1.11.1 in c:\\users\\kiit\\anaconda3\\envs\\kidney\\lib\\site-packages (from gql[requests]->dagshub) (2.2.1)\n",
      "Requirement already satisfied: requests<3,>=2.26 in c:\\users\\kiit\\anaconda3\\envs\\kidney\\lib\\site-packages (from gql[requests]->dagshub) (2.32.4)\n",
      "Requirement already satisfied: requests-toolbelt<2,>=1.0.0 in c:\\users\\kiit\\anaconda3\\envs\\kidney\\lib\\site-packages (from gql[requests]->dagshub) (1.0.0)\n",
      "Requirement already satisfied: charset_normalizer<4,>=2 in c:\\users\\kiit\\anaconda3\\envs\\kidney\\lib\\site-packages (from requests<3,>=2.26->gql[requests]->dagshub) (3.4.2)\n",
      "Requirement already satisfied: multidict>=4.0 in c:\\users\\kiit\\anaconda3\\envs\\kidney\\lib\\site-packages (from yarl<2.0,>=1.6->gql[requests]->dagshub) (6.6.3)\n",
      "Requirement already satisfied: propcache>=0.2.1 in c:\\users\\kiit\\anaconda3\\envs\\kidney\\lib\\site-packages (from yarl<2.0,>=1.6->gql[requests]->dagshub) (0.3.2)\n",
      "Requirement already satisfied: numpy>=1.22.4 in c:\\users\\kiit\\anaconda3\\envs\\kidney\\lib\\site-packages (from pandas->dagshub) (1.23.5)\n",
      "Requirement already satisfied: pytz>=2020.1 in c:\\users\\kiit\\anaconda3\\envs\\kidney\\lib\\site-packages (from pandas->dagshub) (2022.7.1)\n",
      "Requirement already satisfied: tzdata>=2022.7 in c:\\users\\kiit\\anaconda3\\envs\\kidney\\lib\\site-packages (from pandas->dagshub) (2025.2)\n",
      "Note: you may need to restart the kernel to use updated packages.\n"
     ]
    }
   ],
   "source": [
    "pip install dagshub\n"
   ]
  },
  {
   "cell_type": "code",
   "execution_count": 5,
   "id": "e0bfa2b7",
   "metadata": {},
   "outputs": [
    {
     "data": {
      "text/html": [
       "<pre style=\"white-space:pre;overflow-x:auto;line-height:normal;font-family:Menlo,'DejaVu Sans Mono',consolas,'Courier New',monospace\">Accessing as iamvibhav\n",
       "</pre>\n"
      ],
      "text/plain": [
       "Accessing as iamvibhav\n"
      ]
     },
     "metadata": {},
     "output_type": "display_data"
    },
    {
     "data": {
      "text/html": [
       "<pre style=\"white-space:pre;overflow-x:auto;line-height:normal;font-family:Menlo,'DejaVu Sans Mono',consolas,'Courier New',monospace\">Initialized MLflow to track repo <span style=\"color: #008000; text-decoration-color: #008000\">\"iamvibhav/Kidney-Disease-Classification\"</span>\n",
       "</pre>\n"
      ],
      "text/plain": [
       "Initialized MLflow to track repo \u001b[32m\"iamvibhav/Kidney-Disease-Classification\"\u001b[0m\n"
      ]
     },
     "metadata": {},
     "output_type": "display_data"
    },
    {
     "data": {
      "text/html": [
       "<pre style=\"white-space:pre;overflow-x:auto;line-height:normal;font-family:Menlo,'DejaVu Sans Mono',consolas,'Courier New',monospace\">Repository iamvibhav/Kidney-Disease-Classification initialized!\n",
       "</pre>\n"
      ],
      "text/plain": [
       "Repository iamvibhav/Kidney-Disease-Classification initialized!\n"
      ]
     },
     "metadata": {},
     "output_type": "display_data"
    }
   ],
   "source": [
    "import dagshub\n",
    "dagshub.init(repo_owner='iamvibhav', repo_name='Kidney-Disease-Classification', mlflow=True)\n",
    "\n",
    "import mlflow\n",
    "with mlflow.start_run():\n",
    "  mlflow.log_param('parameter name', 'value')\n",
    "  mlflow.log_metric('metric name', 1)"
   ]
  },
  {
   "cell_type": "code",
   "execution_count": 6,
   "id": "e3109a52",
   "metadata": {},
   "outputs": [],
   "source": [
    "os.environ[\"MLFLOW_TRACKING_URI\"]=\"https://dagshub.com/iamvibhav/Kidney-Disease-Classification.mlflow\"\n",
    "os.environ[\"MLFLOW_TRACKING_USERNAME\"]=\"iamvibhav\"\n",
    "os.environ[\"MLFLOW_TRACKING_PASSWORD\"]=\"54ff0ab70687798bee42af55d137516db3c47361\""
   ]
  },
  {
   "cell_type": "code",
   "execution_count": 7,
   "id": "cdfcced7",
   "metadata": {},
   "outputs": [],
   "source": [
    "import tensorflow as tf\n"
   ]
  },
  {
   "cell_type": "code",
   "execution_count": 8,
   "id": "0700d8f6",
   "metadata": {},
   "outputs": [],
   "source": [
    "model = tf.keras.models.load_model(\"artifacts/training/model.h5\")"
   ]
  },
  {
   "cell_type": "code",
   "execution_count": 9,
   "id": "7a9e1147",
   "metadata": {},
   "outputs": [],
   "source": [
    "from dataclasses import dataclass\n",
    "from pathlib import Path\n",
    "\n",
    "@dataclass(frozen=True)\n",
    "class EvaluationConfig:\n",
    "    path_of_model: Path\n",
    "    training_data: Path\n",
    "    all_params: dict\n",
    "    mlflow_uri: str\n",
    "    params_image_size: list\n",
    "    params_batch_size: int"
   ]
  },
  {
   "cell_type": "code",
   "execution_count": 10,
   "id": "21f2667d",
   "metadata": {},
   "outputs": [],
   "source": [
    "from cnnClassifier.constants import *\n",
    "from cnnClassifier.utils.common import read_yaml, create_directories, save_json"
   ]
  },
  {
   "cell_type": "code",
   "execution_count": 11,
   "id": "c3dba7a2",
   "metadata": {},
   "outputs": [],
   "source": [
    "class ConfigurationManager:\n",
    "    def __init__(\n",
    "        self, \n",
    "        config_filepath = CONFIG_FILE_PATH,\n",
    "        params_filepath = PARAMS_FILE_PATH):\n",
    "        self.config = read_yaml(config_filepath)\n",
    "        self.params = read_yaml(params_filepath)\n",
    "        create_directories([self.config.artifacts_root])\n",
    "\n",
    "    \n",
    "    def get_evaluation_config(self) -> EvaluationConfig:\n",
    "        eval_config = EvaluationConfig(\n",
    "            path_of_model=\"artifacts/training/model.h5\",\n",
    "            training_data=\"artifacts/data_ingestion/kidney-ct-scan-image\",\n",
    "            mlflow_uri=\"https://dagshub.com/iamvibhav/Kidney-Disease-Classification.mlflow\",\n",
    "            all_params=self.params,\n",
    "            params_image_size=self.params.IMAGE_SIZE,\n",
    "            params_batch_size=self.params.BATCH_SIZE\n",
    "        )\n",
    "        return eval_config"
   ]
  },
  {
   "cell_type": "code",
   "execution_count": 12,
   "id": "2b1ac31b",
   "metadata": {},
   "outputs": [],
   "source": [
    "import tensorflow as tf\n",
    "from pathlib import Path\n",
    "import mlflow\n",
    "import mlflow.keras\n",
    "from urllib.parse import urlparse"
   ]
  },
  {
   "cell_type": "code",
   "execution_count": 13,
   "id": "7239e867",
   "metadata": {},
   "outputs": [],
   "source": [
    "class Evaluation:\n",
    "    def __init__(self, config: EvaluationConfig):\n",
    "        self.config = config\n",
    "\n",
    "    \n",
    "    def _valid_generator(self):\n",
    "\n",
    "        datagenerator_kwargs = dict(\n",
    "            rescale = 1./255,\n",
    "            validation_split=0.30\n",
    "        )\n",
    "\n",
    "        dataflow_kwargs = dict(\n",
    "            target_size=self.config.params_image_size[:-1],\n",
    "            batch_size=self.config.params_batch_size,\n",
    "            interpolation=\"bilinear\"\n",
    "        )\n",
    "\n",
    "        valid_datagenerator = tf.keras.preprocessing.image.ImageDataGenerator(\n",
    "            **datagenerator_kwargs\n",
    "        )\n",
    "\n",
    "        self.valid_generator = valid_datagenerator.flow_from_directory(\n",
    "            directory=self.config.training_data,\n",
    "            subset=\"validation\",\n",
    "            shuffle=False,\n",
    "            **dataflow_kwargs\n",
    "        )\n",
    "\n",
    "\n",
    "    @staticmethod\n",
    "    def load_model(path: Path) -> tf.keras.Model:\n",
    "        return tf.keras.models.load_model(path)\n",
    "    \n",
    "\n",
    "    def evaluation(self):\n",
    "        self.model = self.load_model(self.config.path_of_model)\n",
    "        self._valid_generator()\n",
    "        self.score = model.evaluate(self.valid_generator)\n",
    "        self.save_score()\n",
    "\n",
    "    def save_score(self):\n",
    "        scores = {\"loss\": self.score[0], \"accuracy\": self.score[1]}\n",
    "        save_json(path=Path(\"scores.json\"), data=scores)\n",
    "\n",
    "    \n",
    "    def log_into_mlflow(self):\n",
    "        mlflow.set_registry_uri(self.config.mlflow_uri)\n",
    "        tracking_url_type_store = urlparse(mlflow.get_tracking_uri()).scheme\n",
    "        \n",
    "        with mlflow.start_run():\n",
    "            mlflow.log_params(self.config.all_params)\n",
    "            mlflow.log_metrics(\n",
    "                {\"loss\": self.score[0], \"accuracy\": self.score[1]}\n",
    "            )\n",
    "            # Model registry does not work with file store\n",
    "            if tracking_url_type_store != \"file\":\n",
    "\n",
    "                # Register the model\n",
    "                # There are other ways to use the Model Registry, which depends on the use case,\n",
    "                # please refer to the doc for more information:\n",
    "                # https://mlflow.org/docs/latest/model-registry.html#api-workflow\n",
    "                mlflow.keras.log_model(self.model, \"model\", registered_model_name=\"VGG16Model\")\n",
    "            else:\n",
    "                mlflow.keras.log_model(self.model, \"model\")"
   ]
  },
  {
   "cell_type": "code",
   "execution_count": 15,
   "id": "ac3b39d8",
   "metadata": {},
   "outputs": [
    {
     "name": "stdout",
     "output_type": "stream",
     "text": [
      "[2025-07-03 18:20:15,109: INFO: common: yaml file: config\\config.yaml loaded successfully]\n",
      "[2025-07-03 18:20:15,113: INFO: common: yaml file: params.yaml loaded successfully]\n",
      "[2025-07-03 18:20:15,115: INFO: common: created directory at: artifacts]\n",
      "Found 139 images belonging to 2 classes.\n",
      "9/9 [==============================] - 17s 2s/step - loss: 2.3898 - accuracy: 0.5180\n",
      "[2025-07-03 18:20:33,045: INFO: common: json file saved at: scores.json]\n"
     ]
    },
    {
     "name": "stderr",
     "output_type": "stream",
     "text": [
      "2025/07/03 18:20:34 WARNING mlflow.tensorflow: You are saving a TensorFlow Core model or Keras model without a signature. Inference with mlflow.pyfunc.spark_udf() will not work unless the model's pyfunc representation accepts pandas DataFrames as inference inputs.\n"
     ]
    },
    {
     "name": "stdout",
     "output_type": "stream",
     "text": [
      "[2025-07-03 18:20:35,498: WARNING: save: Found untraced functions such as _jit_compiled_convolution_op, _jit_compiled_convolution_op, _jit_compiled_convolution_op, _jit_compiled_convolution_op, _jit_compiled_convolution_op while saving (showing 5 of 14). These functions will not be directly callable after loading.]\n",
      "INFO:tensorflow:Assets written to: C:\\Users\\KIIT\\AppData\\Local\\Temp\\tmpykwtzcb2\\model\\data\\model\\assets\n",
      "[2025-07-03 18:20:36,219: INFO: builder_impl: Assets written to: C:\\Users\\KIIT\\AppData\\Local\\Temp\\tmpykwtzcb2\\model\\data\\model\\assets]\n"
     ]
    },
    {
     "name": "stderr",
     "output_type": "stream",
     "text": [
      "Registered model 'VGG16Model' already exists. Creating a new version of this model...\n",
      "2025/07/03 18:21:08 INFO mlflow.tracking._model_registry.client: Waiting up to 300 seconds for model version to finish creation.                     Model name: VGG16Model, version 3\n",
      "Created version '3' of model 'VGG16Model'.\n"
     ]
    }
   ],
   "source": [
    "try:\n",
    "    config = ConfigurationManager()\n",
    "    eval_config = config.get_evaluation_config()\n",
    "    evaluation = Evaluation(eval_config)\n",
    "    evaluation.evaluation()\n",
    "    evaluation.log_into_mlflow()\n",
    "\n",
    "except Exception as e:\n",
    "   raise e"
   ]
  },
  {
   "cell_type": "code",
   "execution_count": null,
   "id": "1ad89093",
   "metadata": {},
   "outputs": [],
   "source": []
  }
 ],
 "metadata": {
  "kernelspec": {
   "display_name": "kidney",
   "language": "python",
   "name": "python3"
  },
  "language_info": {
   "codemirror_mode": {
    "name": "ipython",
    "version": 3
   },
   "file_extension": ".py",
   "mimetype": "text/x-python",
   "name": "python",
   "nbconvert_exporter": "python",
   "pygments_lexer": "ipython3",
   "version": "3.9.23"
  }
 },
 "nbformat": 4,
 "nbformat_minor": 5
}
